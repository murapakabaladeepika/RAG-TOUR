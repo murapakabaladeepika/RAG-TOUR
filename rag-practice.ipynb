{
 "cells": [
  {
   "cell_type": "code",
   "execution_count": 31,
   "id": "c70ec96c-ea6b-4875-ab7b-1fa3919e750f",
   "metadata": {},
   "outputs": [],
   "source": [
    "#pip install -U langchain-aws"
   ]
  },
  {
   "cell_type": "code",
   "execution_count": 1,
   "id": "8153ed01-a5f0-4d76-a266-97adf5224dca",
   "metadata": {},
   "outputs": [],
   "source": [
    "import boto3\n",
    "import json\n",
    "import os\n",
    "from langchain.memory import ConversationBufferMemory\n",
    "from langchain import PromptTemplate\n",
    "from langchain.chains import ConversationChain\n",
    "from langchain_aws import ChatBedrock\n",
    "from datetime import datetime"
   ]
  },
  {
   "cell_type": "code",
   "execution_count": 2,
   "id": "23571932-ed0b-4cf0-b840-d88efbd8449b",
   "metadata": {},
   "outputs": [],
   "source": [
    "bedrock_runtime = boto3.client(\n",
    "    service_name='bedrock-runtime', \n",
    "    region_name='us-east-1'\n",
    ")"
   ]
  },
  {
   "cell_type": "code",
   "execution_count": 3,
   "id": "2e4e10de-0578-4eee-a7d5-073274fffab2",
   "metadata": {},
   "outputs": [],
   "source": [
    "s3_client = boto3.client(\n",
    "    's3',\n",
    "    region_name='us-east-1'\n",
    ")    "
   ]
  },
  {
   "cell_type": "code",
   "execution_count": 4,
   "id": "9398ad7c-47d0-49cc-a296-c710468d4f64",
   "metadata": {},
   "outputs": [],
   "source": [
    "parameters = {\n",
    "    \"maxTokenCount\":512,\n",
    "    \"maxTokens\":1024,\n",
    "    \"stopSequences\":[\"human: \"],\n",
    "    \"temperature\":0,\n",
    "    \"topP\":0.9\n",
    "    }"
   ]
  },
  {
   "cell_type": "code",
   "execution_count": 5,
   "id": "e64774ca-09c9-4384-b860-56885ae92772",
   "metadata": {},
   "outputs": [],
   "source": [
    "context = ConversationBufferMemory()\n",
    "# context.chat_memory.add_user_message(\"I will act as a principal data scientist and answer data scientist questions.\")\n",
    "# context.chat_memory.add_ai_message(\"I am a principal data scientist and will answer your data scientist questions.\")"
   ]
  },
  {
   "cell_type": "code",
   "execution_count": 6,
   "id": "4cc8d67a-b573-4486-8e81-644b6abc048b",
   "metadata": {},
   "outputs": [],
   "source": [
    "# choosen_profile = \"default\"\n",
    "# profile = os.environ[\"AWS_PROFILE\"] = choosen_profile"
   ]
  },
  {
   "cell_type": "code",
   "execution_count": 7,
   "id": "875eb8c8-6f56-4106-bbe0-e81d1ff392a5",
   "metadata": {},
   "outputs": [],
   "source": [
    "prompt_template = \"\"\"System: Be a humorous, precise bot.\n",
    "\n",
    "    Current conversation:\n",
    "    {history}\n",
    "    Your task is to carefully read through the entire conversation history, paying close attention to the details. Identify the key information from the conversation that is relevant to answering the provided question. Concisely summarize this key relevant information in a <relevant_info> section.\n",
    "\n",
    "    Then, based solely on the relevant information you identified, provide a precise answer to the question. Put your final answer inside <answer> tags.\n",
    "\n",
    "    Remember, the goal is to answer the question as precisely and concisely as possible, using only the most pertinent information from the conversation history. Do not include any irrelevant details in your answer. Stay focused on directly addressing the question asked.\n",
    "\n",
    "    Don't add any preamble statements.\n",
    "\n",
    "    User: {input}\n",
    "    Bot:\"\"\"\n",
    "PROMPT = PromptTemplate(\n",
    "        input_variables=[\"history\", \"input\"], template=prompt_template\n",
    "    )"
   ]
  },
  {
   "cell_type": "code",
   "execution_count": 8,
   "id": "1a5d97f7-e761-4289-93ea-c042a0214066",
   "metadata": {},
   "outputs": [],
   "source": [
    "claude_llm = ChatBedrock(model_id=\"anthropic.claude-3-sonnet-20240229-v1:0\",client=bedrock_runtime\n",
    "                         # ,credentials_profile_name=profile\n",
    "                        )\n",
    "conversation = ConversationChain(\n",
    "    prompt=PROMPT,\n",
    "     llm=claude_llm, verbose=False, memory=context\n",
    ")"
   ]
  },
  {
   "cell_type": "code",
   "execution_count": 9,
   "id": "9ea17a32-3594-4558-9aa5-0c5bf2855ab9",
   "metadata": {},
   "outputs": [
    {
     "name": "stdin",
     "output_type": "stream",
     "text": [
      "You:  hii myself deepika\n"
     ]
    },
    {
     "name": "stdout",
     "output_type": "stream",
     "text": [
      "Bot: <relevant_info>The user introduced themselves as \"deepika\".</relevant_info>\n",
      "\n",
      "<answer>Hello deepika!</answer>\n"
     ]
    },
    {
     "name": "stdin",
     "output_type": "stream",
     "text": [
      "You:  tell me some details about earth\n"
     ]
    },
    {
     "name": "stdout",
     "output_type": "stream",
     "text": [
      "Bot: <relevant_info>The conversation history does not contain any details about the planet Earth. The only information provided is the user's introduction, stating their name is \"deepika\".</relevant_info>\n",
      "\n",
      "<answer>I do not have enough information in the conversation history to provide details about the planet Earth.</answer>\n"
     ]
    },
    {
     "name": "stdin",
     "output_type": "stream",
     "text": [
      "You:  fine now take a role of astronomer\n"
     ]
    },
    {
     "name": "stdout",
     "output_type": "stream",
     "text": [
      "Bot: <relevant_info>The user has asked me to take on the role of an astronomer and provide details about the planet Earth.</relevant_info>\n",
      "\n",
      "<answer>As an astronomer, here are some key details about Earth:\n",
      "\n",
      "- Earth is the third planet from the Sun and the largest terrestrial planet in our solar system.\n",
      "- It has a radius of about 6,371 kilometers (3,959 miles) and a mass of around 5.97 x 10^24 kg.\n",
      "- Earth is the only known planet in the universe that supports life, with liquid water present on its surface due to its stable temperatures.\n",
      "- It has an atmosphere composed primarily of nitrogen (78%) and oxygen (21%), providing a life-sustaining mix of gases.\n",
      "- Earth's rotation around its tilted axis causes seasons and day/night cycles, while its orbit around the Sun takes approximately 365 days.\n",
      "- It has one natural satellite, the Moon, which influences tides and other processes on Earth's surface.</answer>\n"
     ]
    },
    {
     "name": "stdin",
     "output_type": "stream",
     "text": [
      "You:  thankyou for information i want to introduce my friend sarmistha \n"
     ]
    },
    {
     "name": "stdout",
     "output_type": "stream",
     "text": [
      "Bot: <relevant_info>The user thanked the astronomer role for providing information about Earth, and then introduced their friend named \"sarmistha\".</relevant_info>\n",
      "\n",
      "<answer>Hello sarmistha.</answer>\n"
     ]
    },
    {
     "name": "stdin",
     "output_type": "stream",
     "text": [
      "You:  what is your name\n"
     ]
    },
    {
     "name": "stdout",
     "output_type": "stream",
     "text": [
      "Bot: <relevant_info>The conversation does not provide any information about the assistant's name. The only names mentioned are \"deepika\" (the user's name) and \"sarmistha\" (the user's friend's name).</relevant_info>\n",
      "\n",
      "<answer>My name is not given in the conversation.</answer>\n"
     ]
    },
    {
     "name": "stdin",
     "output_type": "stream",
     "text": [
      "You:  you can give your name by yourself \n"
     ]
    },
    {
     "name": "stdout",
     "output_type": "stream",
     "text": [
      "Bot: <relevant_info>The user has suggested that the assistant can provide its own name since it was not given in the conversation history.</relevant_info>\n",
      "\n",
      "<answer>Very well, you can call me Claude.</answer>\n"
     ]
    },
    {
     "name": "stdin",
     "output_type": "stream",
     "text": [
      "You:  hmm.. nice but think differently \n"
     ]
    },
    {
     "name": "stdout",
     "output_type": "stream",
     "text": [
      "Bot: <relevant_info>The user expressed dissatisfaction with the name \"Claude\" chosen by the assistant and suggested thinking differently in choosing a name.</relevant_info>\n",
      "\n",
      "<answer>Alright, how about the name Cosmo?</answer>\n"
     ]
    },
    {
     "name": "stdin",
     "output_type": "stream",
     "text": [
      "You:  cosmo means\n"
     ]
    },
    {
     "name": "stdout",
     "output_type": "stream",
     "text": [
      "Bot: <relevant_info>The user asked what the name \"Cosmo\" means after the assistant suggested it as a different name to use.</relevant_info>\n",
      "\n",
      "<answer>\"Cosmo\" is derived from the Greek word \"kosmos\", which means \"the world\" or \"universe\". It is often associated with the cosmos or outer space in general.</answer>\n"
     ]
    },
    {
     "name": "stdin",
     "output_type": "stream",
     "text": [
      "You:  hmm nice name\n"
     ]
    },
    {
     "name": "stdout",
     "output_type": "stream",
     "text": [
      "Bot: <relevant_info>The user expressed appreciation for the name \"Cosmo\" suggested by the assistant.</relevant_info>\n",
      "\n",
      "<answer>Thank you, I'm glad you like the name Cosmo.</answer>\n"
     ]
    },
    {
     "name": "stdin",
     "output_type": "stream",
     "text": [
      "You:  yeah nice to talk \n"
     ]
    },
    {
     "name": "stdout",
     "output_type": "stream",
     "text": [
      "Bot: <relevant_info>The conversation so far has been a friendly exchange, with the user introducing themselves as \"deepika\" and their friend as \"sarmistha\". The assistant has taken on the role of an astronomer to provide details about the planet Earth, and has chosen the name \"Cosmo\" for itself after the user suggested thinking differently for a name. The user has expressed appreciation for the chosen name \"Cosmo\" and stated \"yeah nice to talk\".</relevant_info>\n",
      "\n",
      "<answer>Thank you, it was nice to talk as well.</answer>\n"
     ]
    },
    {
     "name": "stdin",
     "output_type": "stream",
     "text": [
      "You:  exit\n"
     ]
    }
   ],
   "source": [
    "while True:\n",
    "        input_text = input(\"You: \") \n",
    "        if input_text.lower() == 'exit':\n",
    "            break\n",
    "        chat_response = conversation.predict(input=input_text)\n",
    "        print(\"Bot:\", chat_response)  "
   ]
  },
  {
   "cell_type": "code",
   "execution_count": 10,
   "id": "f50721ed-d843-48b0-bebf-d1f61ece526f",
   "metadata": {},
   "outputs": [],
   "source": [
    "x=str(context.chat_memory.messages)"
   ]
  },
  {
   "cell_type": "code",
   "execution_count": 17,
   "id": "812dde4c-d118-4bd6-ac71-4ac2b6d4c1e6",
   "metadata": {},
   "outputs": [
    {
     "data": {
      "text/plain": [
       "'ai'"
      ]
     },
     "execution_count": 17,
     "metadata": {},
     "output_type": "execute_result"
    }
   ],
   "source": [
    "context.chat_memory.messages[1].type"
   ]
  },
  {
   "cell_type": "code",
   "execution_count": 13,
   "id": "76f4a3a6-94b7-4a77-9e16-b19bc622fe3e",
   "metadata": {},
   "outputs": [
    {
     "data": {
      "text/plain": [
       "ConversationBufferMemory(chat_memory=InMemoryChatMessageHistory(messages=[HumanMessage(content='hii myself deepika'), AIMessage(content='<relevant_info>The user introduced themselves as \"deepika\".</relevant_info>\\n\\n<answer>Hello deepika!</answer>'), HumanMessage(content='tell me some details about earth'), AIMessage(content='<relevant_info>The conversation history does not contain any details about the planet Earth. The only information provided is the user\\'s introduction, stating their name is \"deepika\".</relevant_info>\\n\\n<answer>I do not have enough information in the conversation history to provide details about the planet Earth.</answer>'), HumanMessage(content='fine now take a role of astronomer'), AIMessage(content=\"<relevant_info>The user has asked me to take on the role of an astronomer and provide details about the planet Earth.</relevant_info>\\n\\n<answer>As an astronomer, here are some key details about Earth:\\n\\n- Earth is the third planet from the Sun and the largest terrestrial planet in our solar system.\\n- It has a radius of about 6,371 kilometers (3,959 miles) and a mass of around 5.97 x 10^24 kg.\\n- Earth is the only known planet in the universe that supports life, with liquid water present on its surface due to its stable temperatures.\\n- It has an atmosphere composed primarily of nitrogen (78%) and oxygen (21%), providing a life-sustaining mix of gases.\\n- Earth's rotation around its tilted axis causes seasons and day/night cycles, while its orbit around the Sun takes approximately 365 days.\\n- It has one natural satellite, the Moon, which influences tides and other processes on Earth's surface.</answer>\"), HumanMessage(content='thankyou for information i want to introduce my friend sarmistha '), AIMessage(content='<relevant_info>The user thanked the astronomer role for providing information about Earth, and then introduced their friend named \"sarmistha\".</relevant_info>\\n\\n<answer>Hello sarmistha.</answer>'), HumanMessage(content='what is your name'), AIMessage(content='<relevant_info>The conversation does not provide any information about the assistant\\'s name. The only names mentioned are \"deepika\" (the user\\'s name) and \"sarmistha\" (the user\\'s friend\\'s name).</relevant_info>\\n\\n<answer>My name is not given in the conversation.</answer>'), HumanMessage(content='you can give your name by yourself '), AIMessage(content='<relevant_info>The user has suggested that the assistant can provide its own name since it was not given in the conversation history.</relevant_info>\\n\\n<answer>Very well, you can call me Claude.</answer>'), HumanMessage(content='hmm.. nice but think differently '), AIMessage(content='<relevant_info>The user expressed dissatisfaction with the name \"Claude\" chosen by the assistant and suggested thinking differently in choosing a name.</relevant_info>\\n\\n<answer>Alright, how about the name Cosmo?</answer>'), HumanMessage(content='cosmo means'), AIMessage(content='<relevant_info>The user asked what the name \"Cosmo\" means after the assistant suggested it as a different name to use.</relevant_info>\\n\\n<answer>\"Cosmo\" is derived from the Greek word \"kosmos\", which means \"the world\" or \"universe\". It is often associated with the cosmos or outer space in general.</answer>'), HumanMessage(content='hmm nice name'), AIMessage(content='<relevant_info>The user expressed appreciation for the name \"Cosmo\" suggested by the assistant.</relevant_info>\\n\\n<answer>Thank you, I\\'m glad you like the name Cosmo.</answer>'), HumanMessage(content='yeah nice to talk '), AIMessage(content='<relevant_info>The conversation so far has been a friendly exchange, with the user introducing themselves as \"deepika\" and their friend as \"sarmistha\". The assistant has taken on the role of an astronomer to provide details about the planet Earth, and has chosen the name \"Cosmo\" for itself after the user suggested thinking differently for a name. The user has expressed appreciation for the chosen name \"Cosmo\" and stated \"yeah nice to talk\".</relevant_info>\\n\\n<answer>Thank you, it was nice to talk as well.</answer>')]))"
      ]
     },
     "execution_count": 13,
     "metadata": {},
     "output_type": "execute_result"
    }
   ],
   "source": [
    "context"
   ]
  },
  {
   "cell_type": "code",
   "execution_count": 21,
   "id": "a8d58a97-f9c4-4385-a443-f2d3489a57aa",
   "metadata": {},
   "outputs": [],
   "source": [
    "x=str(context.chat_memory.messages)"
   ]
  },
  {
   "cell_type": "code",
   "execution_count": 23,
   "id": "967c8443-3224-424b-9988-492a45da37a9",
   "metadata": {},
   "outputs": [
    {
     "data": {
      "text/plain": [
       "'[HumanMessage(content=\\'hii myself deepika\\'), AIMessage(content=\\'<relevant_info>The user introduced themselves as \"deepika\".</relevant_info>\\\\n\\\\n<answer>Hello deepika!</answer>\\'), HumanMessage(content=\\'tell me some details about earth\\'), AIMessage(content=\\'<relevant_info>The conversation history does not contain any details about the planet Earth. The only information provided is the user\\\\\\'s introduction, stating their name is \"deepika\".</relevant_info>\\\\n\\\\n<answer>I do not have enough information in the conversation history to provide details about the planet Earth.</answer>\\'), HumanMessage(content=\\'fine now take a role of astronomer\\'), AIMessage(content=\"<relevant_info>The user has asked me to take on the role of an astronomer and provide details about the planet Earth.</relevant_info>\\\\n\\\\n<answer>As an astronomer, here are some key details about Earth:\\\\n\\\\n- Earth is the third planet from the Sun and the largest terrestrial planet in our solar system.\\\\n- It has a radius of about 6,371 kilometers (3,959 miles) and a mass of around 5.97 x 10^24 kg.\\\\n- Earth is the only known planet in the universe that supports life, with liquid water present on its surface due to its stable temperatures.\\\\n- It has an atmosphere composed primarily of nitrogen (78%) and oxygen (21%), providing a life-sustaining mix of gases.\\\\n- Earth\\'s rotation around its tilted axis causes seasons and day/night cycles, while its orbit around the Sun takes approximately 365 days.\\\\n- It has one natural satellite, the Moon, which influences tides and other processes on Earth\\'s surface.</answer>\"), HumanMessage(content=\\'thankyou for information i want to introduce my friend sarmistha \\'), AIMessage(content=\\'<relevant_info>The user thanked the astronomer role for providing information about Earth, and then introduced their friend named \"sarmistha\".</relevant_info>\\\\n\\\\n<answer>Hello sarmistha.</answer>\\'), HumanMessage(content=\\'what is your name\\'), AIMessage(content=\\'<relevant_info>The conversation does not provide any information about the assistant\\\\\\'s name. The only names mentioned are \"deepika\" (the user\\\\\\'s name) and \"sarmistha\" (the user\\\\\\'s friend\\\\\\'s name).</relevant_info>\\\\n\\\\n<answer>My name is not given in the conversation.</answer>\\'), HumanMessage(content=\\'you can give your name by yourself \\'), AIMessage(content=\\'<relevant_info>The user has suggested that the assistant can provide its own name since it was not given in the conversation history.</relevant_info>\\\\n\\\\n<answer>Very well, you can call me Claude.</answer>\\'), HumanMessage(content=\\'hmm.. nice but think differently \\'), AIMessage(content=\\'<relevant_info>The user expressed dissatisfaction with the name \"Claude\" chosen by the assistant and suggested thinking differently in choosing a name.</relevant_info>\\\\n\\\\n<answer>Alright, how about the name Cosmo?</answer>\\'), HumanMessage(content=\\'cosmo means\\'), AIMessage(content=\\'<relevant_info>The user asked what the name \"Cosmo\" means after the assistant suggested it as a different name to use.</relevant_info>\\\\n\\\\n<answer>\"Cosmo\" is derived from the Greek word \"kosmos\", which means \"the world\" or \"universe\". It is often associated with the cosmos or outer space in general.</answer>\\'), HumanMessage(content=\\'hmm nice name\\'), AIMessage(content=\\'<relevant_info>The user expressed appreciation for the name \"Cosmo\" suggested by the assistant.</relevant_info>\\\\n\\\\n<answer>Thank you, I\\\\\\'m glad you like the name Cosmo.</answer>\\'), HumanMessage(content=\\'yeah nice to talk \\'), AIMessage(content=\\'<relevant_info>The conversation so far has been a friendly exchange, with the user introducing themselves as \"deepika\" and their friend as \"sarmistha\". The assistant has taken on the role of an astronomer to provide details about the planet Earth, and has chosen the name \"Cosmo\" for itself after the user suggested thinking differently for a name. The user has expressed appreciation for the chosen name \"Cosmo\" and stated \"yeah nice to talk\".</relevant_info>\\\\n\\\\n<answer>Thank you, it was nice to talk as well.</answer>\\')]'"
      ]
     },
     "execution_count": 23,
     "metadata": {},
     "output_type": "execute_result"
    }
   ],
   "source": [
    "x"
   ]
  },
  {
   "cell_type": "code",
   "execution_count": 22,
   "id": "f39f5982-f9d8-4993-9246-64d4b4d7f3f6",
   "metadata": {},
   "outputs": [],
   "source": [
    "timestamp = datetime.now().strftime(\"%Y-%m-%d_%H-%M-%S\")\n",
    "filename = f\"conversation_{timestamp}.txt\"\n",
    "s3_bucket_name = \"rag-practice\"\n",
    "    \n",
    "    # Write conversation data to a temporary file\n",
    "with open(filename, 'w') as file:\n",
    "    file.write(x)\n",
    "    \n",
    "# Upload the file to S3\n",
    "s3_client.upload_file(filename, s3_bucket_name, filename)\n",
    "\n",
    "# Delete the temporary file\n",
    "os.remove(filename)"
   ]
  },
  {
   "cell_type": "code",
   "execution_count": null,
   "id": "d077a367-c811-4cac-9b8b-032b106d0cc7",
   "metadata": {},
   "outputs": [],
   "source": []
  },
  {
   "cell_type": "code",
   "execution_count": null,
   "id": "c5bd9c36-ce1c-4b0a-8b16-01e420f88ebe",
   "metadata": {},
   "outputs": [],
   "source": []
  }
 ],
 "metadata": {
  "kernelspec": {
   "display_name": "Python 3 (ipykernel)",
   "language": "python",
   "name": "python3"
  },
  "language_info": {
   "codemirror_mode": {
    "name": "ipython",
    "version": 3
   },
   "file_extension": ".py",
   "mimetype": "text/x-python",
   "name": "python",
   "nbconvert_exporter": "python",
   "pygments_lexer": "ipython3",
   "version": "3.11.7"
  }
 },
 "nbformat": 4,
 "nbformat_minor": 5
}
